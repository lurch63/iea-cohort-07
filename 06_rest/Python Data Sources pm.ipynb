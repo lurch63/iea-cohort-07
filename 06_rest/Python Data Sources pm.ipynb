{
 "cells": [
  {
   "cell_type": "markdown",
   "metadata": {},
   "source": [
    "# Getting Data into Python"
   ]
  },
  {
   "cell_type": "markdown",
   "metadata": {},
   "source": [
    "## Agenda\n",
    "* Network / HTTP concepts\n",
    "* REST API concepts\n",
    "* Calling APIs with Python\n",
    "* Web Scraping with BeautifulSoup\n",
    "* Connecting to Databases\n",
    "* Other data sources"
   ]
  },
  {
   "cell_type": "markdown",
   "metadata": {},
   "source": [
    "## Getting Data from the Web"
   ]
  },
  {
   "cell_type": "markdown",
   "metadata": {},
   "source": [
    "## Network Fundamentals\n",
    "* Networks communicate messages between **clients** and **servers**\n",
    "* Many different protocols throughout history\n",
    "* Dominant protocol today is **TCP/IP**\n",
    "* Web requests use **HyperText Transfer Protocol (HTTP)**"
   ]
  },
  {
   "cell_type": "markdown",
   "metadata": {},
   "source": [
    "# OSI Network Model![OSI Model](images/osi.png)"
   ]
  },
  {
   "cell_type": "markdown",
   "metadata": {},
   "source": [
    "### HyperText Transfer Protocol\n",
    "- This is the way our web browsers work!\n",
    "- Replaced older network protocols like gopher\n",
    "- Development of HTTP was initiated by Tim Berners-Lee at CERN in 1989\n",
    "- HTTP is a text-based protocol (not binary)\n",
    "- HTTP is *stateless* - every request must contain all contextual info!\n",
    "- HTTPS is simply HTTP over SSL (Secure Socket Layer) so that requests and responses are encrypted from client to server and back (but beware of DNS leaks!)\n",
    "- HTTP 1.1 Specification (good luck!): https://tools.ietf.org/html/rfc7231"
   ]
  },
  {
   "cell_type": "markdown",
   "metadata": {},
   "source": [
    "# HTTP Request\n",
    "![Network Request](images/client_server.png)"
   ]
  },
  {
   "cell_type": "code",
   "execution_count": 1,
   "metadata": {},
   "outputs": [
    {
     "name": "stdout",
     "output_type": "stream",
     "text": [
      "*   Trying 151.101.0.67:443...\n",
      "* Connected to xkcd.com (151.101.0.67) port 443 (#0)\n",
      "* ALPN, offering h2\n",
      "* ALPN, offering http/1.1\n",
      "* Cipher selection: ALL:!EXPORT:!EXPORT40:!EXPORT56:!aNULL:!LOW:!RC4:@STRENGTH\n",
      "* successfully set certificate verify locations:\n",
      "*  CAfile: /etc/pki/tls/certs/ca-bundle.crt\n",
      "*  CApath: none\n",
      "* TLSv1.2 (OUT), TLS header, Certificate Status (22):\n",
      "* TLSv1.2 (OUT), TLS handshake, Client hello (1):\n",
      "* TLSv1.2 (IN), TLS handshake, Server hello (2):\n",
      "* TLSv1.2 (IN), TLS handshake, Certificate (11):\n",
      "* TLSv1.2 (IN), TLS handshake, Server key exchange (12):\n",
      "* TLSv1.2 (IN), TLS handshake, Server finished (14):\n",
      "* TLSv1.2 (OUT), TLS handshake, Client key exchange (16):\n",
      "* TLSv1.2 (OUT), TLS change cipher, Change cipher spec (1):\n",
      "* TLSv1.2 (OUT), TLS handshake, Finished (20):\n",
      "* TLSv1.2 (IN), TLS change cipher, Change cipher spec (1):\n",
      "* TLSv1.2 (IN), TLS handshake, Finished (20):\n",
      "* SSL connection using TLSv1.2 / ECDHE-RSA-AES128-GCM-SHA256\n",
      "* ALPN, server accepted to use http/1.1\n",
      "* Server certificate:\n",
      "*  subject: CN=xkcd.com\n",
      "*  start date: Dec 24 20:45:39 2021 GMT\n",
      "*  expire date: Jan 25 20:45:38 2023 GMT\n",
      "*  subjectAltName: host \"xkcd.com\" matched cert's \"xkcd.com\"\n",
      "*  issuer: C=BE; O=GlobalSign nv-sa; CN=GlobalSign Atlas R3 DV TLS CA H2 2021\n",
      "*  SSL certificate verify ok.\n",
      "> GET / HTTP/1.1\n",
      "> Host: xkcd.com\n",
      "> User-Agent: curl/7.79.1\n",
      "> Accept: */*\n",
      "> \n",
      "* Mark bundle as not supporting multiuse\n",
      "< HTTP/1.1 200 OK\n",
      "< Connection: keep-alive\n",
      "< Content-Length: 7830\n",
      "< Server: nginx\n",
      "< Content-Type: text/html; charset=UTF-8\n",
      "< Last-Modified: Fri, 13 May 2022 13:55:50 GMT\n",
      "< ETag: \"627e6366-1e96\"\n",
      "< Expires: Fri, 13 May 2022 14:01:44 GMT\n",
      "< Cache-Control: max-age=300\n",
      "< Via: 1.1 varnish, 1.1 varnish\n",
      "< Accept-Ranges: bytes\n",
      "< Date: Mon, 16 May 2022 15:42:26 GMT\n",
      "< Age: 238\n",
      "< X-Served-By: cache-dfw18622-DFW, cache-iad-kiad7000023-IAD\n",
      "< X-Cache: HIT, HIT\n",
      "< X-Cache-Hits: 1, 1\n",
      "< X-Timer: S1652715746.138329,VS0,VE1\n",
      "< Vary: Accept-Encoding\n",
      "< \n",
      "<!DOCTYPE html>\n",
      "<html>\n",
      "<head>\n",
      "<link rel=\"stylesheet\" type=\"text/css\" href=\"/s/7d94e0.css\" title=\"Default\"/>\n",
      "<title>xkcd: Crêpe</title>\n",
      "<meta http-equiv=\"X-UA-Compatible\" content=\"IE=edge\"/>\n",
      "<link rel=\"shortcut icon\" href=\"/s/919f27.ico\" type=\"image/x-icon\"/>\n",
      "<link rel=\"icon\" href=\"/s/919f27.ico\" type=\"image/x-icon\"/>\n",
      "<link rel=\"alternate\" type=\"application/atom+xml\" title=\"Atom 1.0\" href=\"/atom.xml\"/>\n",
      "<link rel=\"alternate\" type=\"application/rss+xml\" title=\"RSS 2.0\" href=\"/rss.xml\"/>\n",
      "<script type=\"text/javascript\" src=\"/s/b66ed7.js\" async></script>\n",
      "<script type=\"text/javascript\" src=\"/s/1b9456.js\" async></script>\n",
      "\n",
      "<meta property=\"og:site_name\" content=\"xkcd\">\n",
      "\n",
      "<meta property=\"og:title\" content=\"Crêpe\">\n",
      "<meta property=\"og:url\" content=\"https://xkcd.com/2619/\">\n",
      "<meta property=\"og:image\" content=\"https://imgs.xkcd.com/comics/crepe_2x.png\">\n",
      "<meta name=\"twitter:card\" content=\"summary_large_image\">\n",
      "\n",
      "</head>\n",
      "<body>\n",
      "<div id=\"topContainer\">\n",
      "<div id=\"topLeft\">\n",
      "<ul>\n",
      "<li><a href=\"/archive\">Archive</a></li>\n",
      "<li><a href=\"https://what-if.xkcd.com\">What If?</a></li>\n",
      "<li><a href=\"https://blag.xkcd.com\">Blag</a></li>\n",
      "<li><a rel=\"author\" href=\"/about\">About</a></li>\n",
      "<li><a href=\"/atom.xml\">Feed</a>&bull;<a href=\"/newsletter/\">Email</a></li>\n",
      "<li><a href=\"https://twitter.com/xkcd/\">TW</a>&bull;<a href=\"https://www.facebook.com/TheXKCD/\">FB</a>&bull;<a href=\"https://www.instagram.com/xkcd/\">IG</a></li>\n",
      "<li><a href=\"/books/\">-Books-</a></li>\n",
      "<li><a href=\"/what-if-2/\">What If? 2</a></li>\n",
      "<li><a href=\"/what-if/\">WI?</a>&bull;<a href=\"/thing-explainer/\">TE</a>&bull;<a href=\"/how-to/\">HT</a></li>\n",
      "</ul>\n",
      "</div>\n",
      "<div id=\"topRight\">\n",
      "<div id=\"masthead\">\n",
      "<span><a href=\"/\"><img src=\"/s/0b7742.png\" alt=\"xkcd.com logo\" height=\"83\" width=\"185\"/></a></span>\n",
      "<span id=\"slogan\">A webcomic of romance,<br/> sarcasm, math, and language.</span>\n",
      "</div>\n",
      "<div id=\"news\">\n",
      "<div id=\"xkcdNews\">\n",
      "<div id=\"countdown\" style=\"float: right; margin-right: 25px; width: 160px; height: 100px; position: relative;\"><a style=\"display: flex;\" href=\"https://xkcd.com/what-if-2/\"><img alt=\"\" style=\"width: 160px; height: 100px;\" src=\"https://xkcd.com/s/5bef6b.png\"><span style=\"position: absolute; left: 50%; top: 50%; transform: translate(-50%, -50%); padding: 0px 8px; color: black; font-family: xkcd-Regular-v3; font-size: 20px; font-variant: small-caps; letter-spacing: 1px; white-space: nowrap; background: white none repeat scroll 0% 0%; border-radius: 99px; display: none;\"></span></a></div>\n",
      "<em>What If? 2: Additional Serious Scientific Answers to Absurd Hypothetical Questions</em> comes out 9/13. Preorder <a href=\"https://xkcd.com/what-if-2\">here!</a>\n",
      "</div>\n",
      "<script>\n",
      "var client = new XMLHttpRequest();\n",
      "client.open(\"GET\", \"//c.xkcd.com/xkcd/news\", true);\n",
      "client.send();\n",
      "client.onreadystatechange = function() {\n",
      "  if(client.readyState == 4 && client.status == 200) {\n",
      "    document.getElementById(\"xkcdNews\").innerHTML = client.responseText;\n",
      "  }\n",
      "}\n",
      "</script>\n",
      "\n",
      "</div>\n",
      "</div>\n",
      "<div id=\"bgLeft\" class=\"bg box\"></div>\n",
      "<div id=\"bgRight\" class=\"bg box\"></div>\n",
      "</div>\n",
      "<div id=\"middleContainer\" class=\"box\">\n",
      "\n",
      "<div id=\"ctitle\">Crêpe</div>\n",
      "<ul class=\"comicNav\">\n",
      "<li><a href=\"/1/\">|&lt;</a></li>\n",
      "<li><a rel=\"prev\" href=\"/2618/\" accesskey=\"p\">&lt; Prev</a></li>\n",
      "<li><a href=\"//c.xkcd.com/random/comic/\">Random</a></li>\n",
      "<li><a rel=\"next\" href=\"#\" accesskey=\"n\">Next &gt;</a></li>\n",
      "<li><a href=\"/\">&gt;|</a></li>\n",
      "</ul>\n",
      "<div id=\"comic\">\n",
      "<img src=\"//imgs.xkcd.com/comics/crepe.png\" title=\"A medicine that makes you put two dots over your letters more often is a diäretic.\" alt=\"Crêpe\" srcset=\"//imgs.xkcd.com/comics/crepe_2x.png 2x\" style=\"image-orientation:none\" />\n",
      "</div>\n",
      "<ul class=\"comicNav\">\n",
      "<li><a href=\"/1/\">|&lt;</a></li>\n",
      "<li><a rel=\"prev\" href=\"/2618/\" accesskey=\"p\">&lt; Prev</a></li>\n",
      "<li><a href=\"//c.xkcd.com/random/comic/\">Random</a></li>\n",
      "<li><a rel=\"next\" href=\"#\" accesskey=\"n\">Next &gt;</a></li>\n",
      "<li><a href=\"/\">&gt;|</a></li>\n",
      "</ul>\n",
      "<br />\n",
      "Permanent link to this comic: <a href=\"https://xkcd.com/2619\">https://xkcd.com/2619/</a><br />\n",
      "Image URL (for hotlinking/embedding): <a href= \"https://imgs.xkcd.com/comics/crepe.png\">https://imgs.xkcd.com/comics/crepe.png</a>\n",
      "\n",
      "<div id=\"transcript\" style=\"display: none\"></div>\n",
      "</div>\n",
      "<div id=\"bottom\" class=\"box\">\n",
      "<img src=\"//imgs.xkcd.com/s/a899e84.jpg\" width=\"520\" height=\"100\" alt=\"Selected Comics\" usemap=\"#comicmap\"/>\n",
      "<map id=\"comicmap\" name=\"comicmap\">\n",
      "<area shape=\"rect\" coords=\"0,0,100,100\" href=\"/150/\" alt=\"Grownups\"/>\n",
      "<area shape=\"rect\" coords=\"104,0,204,100\" href=\"/730/\" alt=\"Circuit Diagram\"/>\n",
      "<area shape=\"rect\" coords=\"208,0,308,100\" href=\"/162/\" alt=\"Angular Momentum\"/>\n",
      "<area shape=\"rect\" coords=\"312,0,412,100\" href=\"/688/\" alt=\"Self-Description\"/>\n",
      "<area shape=\"rect\" coords=\"416,0,520,100\" href=\"/556/\" alt=\"Alternative Energy Revolution\"/>\n",
      "</map>\n",
      "<br />\n",
      "<a href=\"//xkcd.com/1732/\"><img border=0 src=\"//imgs.xkcd.com/s/temperature.png\" width=\"520\" height=\"100\" alt=\"Earth temperature timeline\"></a>\n",
      "<br />\n",
      "<div>\n",
      "<!--\n",
      "Search comic titles and transcripts:\n",
      "<script type=\"text/javascript\" src=\"//www.google.com/jsapi\"></script>\n",
      "<script type=\"text/javascript\">google.load('search', '1');google.setOnLoadCallback(function() {google.search.CustomSearchControl.attachAutoCompletion('012652707207066138651:zudjtuwe28q',document.getElementById('q'),'cse-search-box');});</script>\n",
      "<form action=\"//www.google.com/cse\" id=\"cse-search-box\">\n",
      "<div>\n",
      "<input type=\"hidden\" name=\"cx\" value=\"012652707207066138651:zudjtuwe28q\"/>\n",
      "<input type=\"hidden\" name=\"ie\" value=\"UTF-8\"/>\n",
      "<input type=\"text\" name=\"q\" id=\"q\" size=\"31\"/>\n",
      "<input type=\"submit\" name=\"sa\" value=\"Search\"/>\n",
      "</div>\n",
      "</form>\n",
      "<script type=\"text/javascript\" src=\"//www.google.com/cse/brand?form=cse-search-box&amp;lang=en\"></script>\n",
      "-->\n",
      "<a href=\"/rss.xml\">RSS Feed</a> - <a href=\"/atom.xml\">Atom Feed</a> - <a href=\"/newsletter/\">Email</a>\n",
      "</div>\n",
      "<br />\n",
      "<div id=\"comicLinks\">\n",
      "Comics I enjoy:<br/>\n",
      "        <a href=\"http://threewordphrase.com/\">Three Word Phrase</a>,\n",
      "        <a href=\"https://www.smbc-comics.com/\">SMBC</a>,\n",
      "        <a href=\"https://www.qwantz.com\">Dinosaur Comics</a>,\n",
      "        <a href=\"https://oglaf.com/\">Oglaf</a> (nsfw),\n",
      "        <a href=\"https://www.asofterworld.com\">A Softer World</a>,\n",
      "        <a href=\"https://buttersafe.com/\">Buttersafe</a>,\n",
      "        <a href=\"https://pbfcomics.com/\">Perry Bible Fellowship</a>,\n",
      "        <a href=\"https://questionablecontent.net/\">Questionable Content</a>,\n",
      "        <a href=\"http://www.buttercupfestival.com/\">Buttercup Festival</a>,\n",
      "        <a href=\"https://www.mspaintadventures.com/\">Homestuck</a>,\n",
      "\t<a href=\"https://www.jspowerhour.com/\">Junior Scientist Power Hour</a>\n",
      "</div>\n",
      "<br />\n",
      "<div id=\"comicLinks\">\n",
      "Other things:<br/>\n",
      "        <a href=\"https://medium.com/civic-tech-thoughts-from-joshdata/so-you-want-to-reform-democracy-7f3b1ef10597\">Tips on technology and government</a>,<br /> \n",
      "        <a href=\"https://www.nytimes.com/interactive/2017/climate/what-is-climate-change.html\">Climate FAQ</a>,\n",
      "\t<a href=\"https://twitter.com/KHayhoe\">Katharine Hayhoe</a>\n",
      "</div>\n",
      "<br />\n",
      "<center>\n",
      "<div id=\"footnote\" style=\"width:70%\">xkcd.com is best viewed with Netscape Navigator 4.0 or below on a Pentium 3&plusmn;1 emulated in Javascript on an Apple IIGS<br />at a screen resolution of 1024x1. Please enable your ad blockers, disable high-heat drying, and remove your device<br />from Airplane Mode and set it to Boat Mode. For security reasons, please leave caps lock on while browsing.</div>\n",
      "</center>\n",
      "<div id=\"licenseText\">\n",
      "<p>\n",
      "This work is licensed under a\n",
      "<a href=\"https://creativecommons.org/licenses/by-nc/2.5/\">Creative Commons Attribution-NonCommercial 2.5 License</a>.\n",
      "</p><p>\n",
      "This means you're free to copy and share these comics (but not to sell them). <a rel=\"license\" href=\"/license.html\">More details</a>.</p>\n",
      "</div>\n",
      "</div>\n",
      "</body>\n",
      "<!-- Layout by Ian Clasbey, davean, and chromakode -->\n",
      "</html>\n",
      "\n",
      "* Connection #0 to host xkcd.com left intact\n"
     ]
    }
   ],
   "source": [
    "!curl -v https://xkcd.com/"
   ]
  },
  {
   "cell_type": "markdown",
   "metadata": {},
   "source": [
    "### HTTP Request components\n",
    "- URL\n",
    "- Verb\n",
    "- Headers (optional)\n",
    "- Body (optional)\n",
    "\n",
    "### HTTP Response components\n",
    "- Status Code\n",
    "- Headers (optional)\n",
    "- Body (optional)"
   ]
  },
  {
   "cell_type": "markdown",
   "metadata": {},
   "source": [
    "### HTTP Status Code Categories\n",
    "- 1xx Informational\n",
    "- 2xx Success\n",
    "- 3xx Redirection\n",
    "- 4xx Client Error / Invalid Request (User's Fault)\n",
    "- 5xx Server Error (Server's Fault)"
   ]
  },
  {
   "cell_type": "markdown",
   "metadata": {},
   "source": [
    "### Common REST Status Code meanings\n",
    "\n",
    "#### 2xx\n",
    "- 200 \"OK\" - General Success (often overused)\n",
    "- 201 \"Created\" - Created a new resource on the server (usually from POST)\n",
    "- 202 \"Accepted\" - Request was accepted, but may not yet be completed (long process)\n",
    "\n",
    "#### 3xx\n",
    "- 301 \"Moved Permanently\" - URL for a resource was changed\n",
    "- 302 \"Found\" - The resource was found at another URL (temporary redirect, \"canonical\" URLs)\n",
    "- 303 \"See Other\" - Often the same as a 302\n",
    "- 304 \"Not Modified\" - Resource has not changed since the last request, use cached value\n",
    "\n",
    "#### 4xx\n",
    "- 400 \"Bad Request\" - Malformed requests, bad parameters, invalid formats\n",
    "- 401 \"Unauthorized\" - The resource requires credentials to access (i.e. requires login)\n",
    "- 403 \"Forbidden\" - The client does not have permission to access the resource\n",
    "- 404 \"Not Found\" - No resource located at this URL\n",
    "- 409 \"Conflict\" - Cannot edit the resource due to a conflict\n",
    "- 429 \"Too Many Requests\" - Used for API rate limiting\n",
    "\n",
    "#### 5xx\n",
    "- 500 \"Internal Server Error\" - Generic, \"something went wrong\" message, might indicate a bug in server code.\n",
    "- 502 \"Bad Gateway\" - A load balancer or proxy got no response from a webserver\n",
    "- 503 \"Service Unavailable\" - The server is overloaded, or down for maintenance, etc."
   ]
  },
  {
   "cell_type": "markdown",
   "metadata": {},
   "source": [
    "## API (Application Programming Interface)\n",
    "* Interface specifically design for code to interact with\n",
    "* No one specification for APIs - it depends on who authors it\n",
    "* Network APIs can be binary or text, public or private, synchronous or asynchrous (and more)\n",
    "* HTTP-based APIs (\"web services\") have many forms - WDSL, SOAP, proprietary"
   ]
  },
  {
   "cell_type": "markdown",
   "metadata": {},
   "source": [
    "## REST APIs\n",
    "* __RE__presentational __S__tate __T__ransfer\n",
    "* Aims to use HTTP \"as intended\" to build the API\n",
    "* Familiar tools:\n",
    "    * URI (URL) uniquely identifies a \"resource\"\n",
    "    * HTTP verbs define what action is intended\n",
    "    * Status codes (200, 404, 500, etc) communicate results\n",
    "    * Headers provide extra info (data formats, encoding, compression)\n",
    "* Not a standard!\n",
    "    * Any data format - JSON, XML, CSV, plain text\n",
    "    * Any \"resource\" - Author's choice (read the docs!)"
   ]
  },
  {
   "cell_type": "markdown",
   "metadata": {},
   "source": [
    "| HTTP Method | Description | \"CRUD\" Action | Request Body | Response Body | Only Reads | Idempotent | Cacheable |\n",
    "| --- | --- | --- | --- | --- | --- | --- | --- |\n",
    "| **GET** | Retrieve a resource | Read | Optional | <span style=\"color: green;\">Yes</span> | <span style=\"color: green;\">Yes</span> | <span style=\"color: green;\">Yes</span> | <span style=\"color: green;\">Yes</span> |\n",
    "| **HEAD** | Retrieve headers for a resource | Read | Optional | <span style=\"color: red;\">No</span> | <span style=\"color: green;\">Yes</span> | <span style=\"color: green;\">Yes</span> | <span style=\"color: green;\">Yes</span> |\n",
    "| **POST** | Post data for a resource | Create | <span style=\"color: green;\">Yes</span> | <span style=\"color: green;\">Yes</span> | <span style=\"color: red;\">No</span> | <span style=\"color: red;\">No</span> | <span style=\"color: green;\">Yes</span> |\n",
    "| **PUT** | Post data (replace) and existing resource | Update | <span style=\"color: green;\">Yes</span> | <span style=\"color: green;\">Yes</span> | <span style=\"color: red;\">No</span> | <span style=\"color: green;\">Yes</span> | <span style=\"color: red;\">No</span> |\n",
    "| **DELETE** | Delete a resource | Delete | Optional | <span style=\"color: green;\">Yes</span> | <span style=\"color: red;\">No</span> | <span style=\"color: green;\">Yes</span> | <span style=\"color: red;\">No</span> |\n",
    "| **CONNECT** | Convert connection to a tunnel | N/A | Optional | <span style=\"color: green;\">Yes</span> | <span style=\"color: red;\">No</span> | <span style=\"color: red;\">No</span> | <span style=\"color: red;\">No</span> |\n",
    "| **OPTIONS** | Request the supported methods for a resource | N/A | Optional | <span style=\"color: green;\">Yes</span> | <span style=\"color: green;\">Yes</span> | <span style=\"color: green;\">Yes</span> | <span style=\"color: red;\">No</span> |\n",
    "| **TRACE** | Echo a client request for testing | N/A | <span style=\"color: red;\">No</span> | <span style=\"color: green;\">Yes</span> | <span style=\"color: green;\">Yes</span> | <span style=\"color: green;\">Yes</span> | <span style=\"color: red;\">No</span> |\n",
    "| **PATCH** | Update a resource with partial data | Update | <span style=\"color: green;\">Yes</span> | <span style=\"color: green;\">Yes</span> | <span style=\"color: red;\">No</span> | <span style=\"color: red;\">No</span> | <span style=\"color: red;\">No</span> |\n",
    "\n",
    "\n",
    "\n"
   ]
  },
  {
   "cell_type": "markdown",
   "metadata": {},
   "source": [
    "### Request / Response Bodies\n",
    "- The HTTP Specification does not address the format of the body\n",
    "- Requests and Responses can be sent in any format that both support\n",
    "- Common formats:  HTML, plain text, JSON, XML, YAML, etc.\n",
    "- See the **Accept** and **Content-Type** headers (and the API docs!)"
   ]
  },
  {
   "cell_type": "markdown",
   "metadata": {},
   "source": [
    "### Request / Response Headers\n",
    "\n",
    "- Headers are just key/value pairs (remind you of anything?)\n",
    "- Values are always just text\n",
    "- Many standard headers, but some APIs may add custom ones\n",
    "\n",
    "#### Common Headers\n",
    "\n",
    "- **Location:** Specify location of requested resource  \n",
    "  Example: `Location: http://www.google.com`  \n",
    "- **Content-Type:** Format of the request body  \n",
    "  Example: `Content-Type: application/json`\n",
    "- **Accept:** Tells the server which body format to return  \n",
    "  Example: `Accept: application/xml`\n",
    "- **User Agent:** Information about the application sending the request  \n",
    "  Example: `User-Agent: curl/7.58.0`\n",
    "- **Cookies:** Misc key-value pairs stored at the client and resent on each request  \n",
    "  Example: `set-cookie: NID=212=v2D4SUIJMhZuI9NWCSmaxWXm0KP01ydT-3ptgttKK3E0dn8_CoixMhU3ql1JotoZ79UbRTDThg7c9APBoipLJjSdLv0H4CLmz7ozxzzqf57Pel4bohmWDpuFcBYT7_h58lkm4-x3OPnZo09bxOJw-LJQGWkurHOnJHioz21Sd30; expires=Sat, 02-Oct-2021 12:09:52 GMT; path=/; domain=.google.com; HttpOnly`"
   ]
  },
  {
   "cell_type": "markdown",
   "metadata": {},
   "source": [
    "## Lab:  HTTP Requests\n",
    "Using the `curl` Linux command line tool (install it with yum if you don't have it), make some web requests to sites you know.  Use the `-v` option (verbose) to see the details of the request and response, and identify the HTTP Method, URL, and Headers.\n",
    "\n",
    "**Bonus:** Using the curl man page (or web search), find out how to send different HTTP Methods with `curl` and try a few out, even those you know may not work, to see what responses you get."
   ]
  },
  {
   "cell_type": "markdown",
   "metadata": {
    "slideshow": {
     "slide_type": "slide"
    }
   },
   "source": [
    "## REST APIs in Python"
   ]
  },
  {
   "cell_type": "markdown",
   "metadata": {},
   "source": [
    "## To talk to a REST API in Python, we need to:\n",
    "* Make a web request\n",
    "* Parse the information it gives us\n",
    "* Luckily, Python gives us both in the standard library!"
   ]
  },
  {
   "cell_type": "markdown",
   "metadata": {},
   "source": [
    "## urllib: Package of modules for making and dealing with HTTP"
   ]
  },
  {
   "cell_type": "code",
   "execution_count": null,
   "metadata": {},
   "outputs": [],
   "source": [
    "from urllib.request import urlopen\n",
    "SECRET_KEY = '1d8c58ed1d54f96f939e706c788650f1'\n",
    "\n",
    "lat, long = (33.8840,-84.5144)  # Smyrna, GA\n",
    "\n",
    "url = 'https://api.darksky.net/forecast/{key}/{lat},{long}'.format(\n",
    "    key=SECRET_KEY, lat=lat, long=long)\n",
    "response = urlopen(url)  # Defaults to a GET request\n",
    "# Returns a file-like Response object, so we can read it just like File I/O\n",
    "print(response)\n",
    "print(dir(response))"
   ]
  },
  {
   "cell_type": "code",
   "execution_count": null,
   "metadata": {},
   "outputs": [],
   "source": [
    "forecast_data = response.read()\n",
    "print(forecast_data)"
   ]
  },
  {
   "cell_type": "markdown",
   "metadata": {},
   "source": [
    "## json: Parsing and creating JSON-formatted data"
   ]
  },
  {
   "cell_type": "code",
   "execution_count": null,
   "metadata": {},
   "outputs": [],
   "source": [
    "import json\n",
    "\n",
    "msg = json.loads('{\"language\": \"en\", \"name\": \"Fred\", \"color\": \"blue\"}')\n",
    "print(msg, type(msg))\n",
    "print(msg['color'])\n",
    "\n",
    "msg['color'] = 'green'\n",
    "s = json.dumps(msg)\n",
    "print(s, type(s))"
   ]
  },
  {
   "cell_type": "code",
   "execution_count": null,
   "metadata": {},
   "outputs": [],
   "source": [
    "forecast = json.loads(forecast_data)\n",
    "# Depending on the API, this can get really deep!  Consider breaking things down\n",
    "print(type(forecast))\n",
    "time = forecast['currently']['time']\n",
    "temp = forecast['currently']['temperature']\n",
    "print(time, temp)\n",
    "\n",
    "today = forecast['daily']['data'][0]\n",
    "\n",
    "print('Today - High: {high}, Low: {low}'.format(\n",
    "    high=today['temperatureHigh'], low=today['temperatureLow']))"
   ]
  },
  {
   "cell_type": "code",
   "execution_count": null,
   "metadata": {},
   "outputs": [],
   "source": [
    "from pprint import pprint\n",
    "pprint(forecast)"
   ]
  },
  {
   "cell_type": "markdown",
   "metadata": {},
   "source": [
    "## Advanced API tools:  Requests\n",
    "* Requests - HTTP for Humans:  http://docs.python-requests.org/en/master/\n",
    "* Nice methods for each HTTP verb\n",
    "* Easy response handling for most common data formats\n",
    "* Can handle cookies, authentication, streaming downloads\n",
    "* Lots of community support for advanced usage:  OAuth, Caching, Async"
   ]
  },
  {
   "cell_type": "code",
   "execution_count": null,
   "metadata": {},
   "outputs": [],
   "source": [
    "import requests"
   ]
  },
  {
   "cell_type": "code",
   "execution_count": null,
   "metadata": {},
   "outputs": [],
   "source": [
    "!pip3 install requests\n",
    "# OR python3 -m pip install requests"
   ]
  },
  {
   "cell_type": "code",
   "execution_count": null,
   "metadata": {},
   "outputs": [],
   "source": [
    "import requests\n",
    "response = requests.get('https://xkcd.com')\n",
    "print(response.text)\n",
    "print(response.headers)\n",
    "print(response.status_code)"
   ]
  },
  {
   "cell_type": "code",
   "execution_count": null,
   "metadata": {},
   "outputs": [],
   "source": [
    "help(requests.get)"
   ]
  },
  {
   "cell_type": "markdown",
   "metadata": {},
   "source": [
    "## Common API Response formats"
   ]
  },
  {
   "cell_type": "markdown",
   "metadata": {},
   "source": [
    "## CSV (Comma-Separated Values) / Delimited text\n",
    "* One of the simplest forms of data transfer formats\n",
    "* Often simply a direct dump from a database or spreadsheet\n",
    "* Very efficient data transfer (little metadata)\n",
    "* Popular in government data sources and data science\n",
    "* Has a few problems that make it less popular on the client side\n",
    "    * No data type support - everything is a string\n",
    "    * Delimeters in text need to be handled specially (usually quoting)\n",
    "    * There are several subtley different \"dialects\" from various tools (no real specification)\n",
    "    * Not terribly human-readable either"
   ]
  },
  {
   "cell_type": "code",
   "execution_count": null,
   "metadata": {},
   "outputs": [],
   "source": [
    "import requests\n",
    "import csv\n",
    "\n",
    "# Hourly earthquake data for earthquakes over 1.0 magnitude, per USGS\n",
    "response = requests.get('https://earthquake.usgs.gov/earthquakes/feed/v1.0/summary/1.0_hour.csv')\n",
    "print(response.text)\n",
    "# Sometimes we have to deal with different data encodings (ASCII, UTF-8, etc.)\n",
    "reader = csv.DictReader(response.iter_lines(decode_unicode=True))\n",
    "for row in reader:\n",
    "    print(row['time'], row['place'], row['mag'])"
   ]
  },
  {
   "cell_type": "markdown",
   "metadata": {},
   "source": [
    "## XML (eXtensible Markup Language)\n",
    "* Became popular as the Web took off (late 1990s)\n",
    "* Intended to be very easy for humans to read (compared to binary formats)\n",
    "* Text only - once again to avoid prior binary protocols\n",
    "* No data types - everything is a string\n",
    "* Very verbose format - not great efficiency for very large files\n",
    "* Not really streamable (there are workarounds)\n",
    "* Official spec (but there are many extensions):\n",
    "* Still very popular as a configuration format (C#, Java, etc)"
   ]
  },
  {
   "cell_type": "code",
   "execution_count": null,
   "metadata": {},
   "outputs": [],
   "source": [
    "import requests\n",
    "from xml.etree import ElementTree as ET\n",
    "\n",
    "response = requests.get('https://earthquake.usgs.gov/earthquakes/feed/v1.0/summary/1.0_week_age_link.kml')\n",
    "\n",
    "print(response.text)\n",
    "print()\n",
    "root = ET.fromstring(response.text)\n",
    "print(root.tag)\n",
    "document = root.find('{http://www.opengis.net/kml/2.2}Document')\n",
    "for child in document:\n",
    "    print(child.tag)\n",
    "    print(child.text)"
   ]
  },
  {
   "cell_type": "markdown",
   "metadata": {},
   "source": [
    "## JSON (JavaScript Object Notation)\n",
    "* Syntax is valid, literal JavaScript objects\n",
    "* Gained rapid popularity because it is simple concise, and easy to deal with in JavaScript\n",
    "* Translates easily to Python objects\n",
    "* Still pretty human readable\n",
    "* Supports a limited set of data types (number, string, boolean, \"object\", and array)\n",
    "* Has an official specification:  https://www.json.org/json-en.html"
   ]
  },
  {
   "cell_type": "code",
   "execution_count": null,
   "metadata": {
    "scrolled": true
   },
   "outputs": [],
   "source": [
    "import requests\n",
    "\n",
    "response = requests.get('https://earthquake.usgs.gov/earthquakes/feed/v1.0/summary/1.0_hour.geojson')\n",
    "\n",
    "data = response.json()\n",
    "print(data)\n",
    "print()\n",
    "for record in data['features']:\n",
    "    print(record['properties']['time'], record['properties']['place'], record['properties']['mag'])"
   ]
  },
  {
   "cell_type": "markdown",
   "metadata": {},
   "source": [
    "## Lab: API Requests\n",
    "\n",
    "* Using the `requests` package, and the API key above, write a function that makes a request for your own location to the DarkSky API, and print out the response data."
   ]
  },
  {
   "cell_type": "code",
   "execution_count": null,
   "metadata": {},
   "outputs": [],
   "source": []
  },
  {
   "cell_type": "markdown",
   "metadata": {},
   "source": [
    "## Other API concerns\n",
    "* Not all APIs are RESTful - you may need to deal with a proprietary protocol or simply request files\n",
    "* Authorization - many APIs require keys, tokens, or other credentials\n",
    "* Network outages\n",
    "* Rate limiting, tiering of access"
   ]
  },
  {
   "cell_type": "markdown",
   "metadata": {},
   "source": [
    "## But what if the site or web app doesn't offer an API?"
   ]
  },
  {
   "cell_type": "markdown",
   "metadata": {},
   "source": [
    "# Web Scraping\n",
    "\n",
    "### Requesting web pages built to render displays for HUMANS and extracting the information we want"
   ]
  },
  {
   "cell_type": "markdown",
   "metadata": {},
   "source": [
    "## Why should web scraping be a fallback?\n",
    "* More manual trial and error up front\n",
    "* Pages meant for humans may change frequently for any reason\n",
    "* Pages meant for display may have data scattered or buried\n",
    "* Popularity of Javascript frameworks may make data even harder to find"
   ]
  },
  {
   "cell_type": "markdown",
   "metadata": {},
   "source": [
    "## BeautifulSoup - Python package for parsing HTML\n",
    "* Offers support for various parsers (html, xml, lxml)\n",
    "* Provides easy methods and properties for navigating the markup \"tree\"\n",
    "* Search by HTML tags, attributes, CSS class, etc.\n",
    "* Regular expression support"
   ]
  },
  {
   "cell_type": "code",
   "execution_count": null,
   "metadata": {},
   "outputs": [],
   "source": [
    "import requests\n",
    "import bs4\n",
    "\n",
    "response = requests.get('https://cnn.com')\n",
    "soup = bs4.BeautifulSoup(response.text)\n",
    "soup"
   ]
  },
  {
   "cell_type": "code",
   "execution_count": null,
   "metadata": {},
   "outputs": [],
   "source": [
    "soup.title"
   ]
  },
  {
   "cell_type": "code",
   "execution_count": null,
   "metadata": {},
   "outputs": [],
   "source": [
    "soup.body.div"
   ]
  },
  {
   "cell_type": "code",
   "execution_count": null,
   "metadata": {},
   "outputs": [],
   "source": [
    "for child in soup.body.children:\n",
    "    print(child)"
   ]
  },
  {
   "cell_type": "code",
   "execution_count": null,
   "metadata": {},
   "outputs": [],
   "source": [
    "soup.find_all('a')"
   ]
  },
  {
   "cell_type": "markdown",
   "metadata": {},
   "source": [
    "## That's a mess - but sometimes we can cheat a little..."
   ]
  },
  {
   "cell_type": "code",
   "execution_count": null,
   "metadata": {},
   "outputs": [],
   "source": [
    "response = requests.get('http://rss.cnn.com/rss/cnn_topstories.rss')\n",
    "soup = bs4.BeautifulSoup(response.text)\n",
    "\n",
    "soup.rss.find_all('title')"
   ]
  },
  {
   "cell_type": "code",
   "execution_count": null,
   "metadata": {},
   "outputs": [],
   "source": [
    "headlines = [node.string for node in soup.rss.find_all('title')]\n",
    "headlines"
   ]
  },
  {
   "cell_type": "markdown",
   "metadata": {},
   "source": [
    "## Bonus Lab:  Web Scraping\n",
    "\n",
    "Using BeautifulSoup4, scrap the Wikipedia page for the History Python to obtain the following information:\n",
    "* What is the sum total length of support time for each major version of Python (i.e. 0.x, 1.x, 2.x, 3.x)\n",
    "* How much time was each major version supported after the next major version appeared?\n",
    "* Display the list of the final version for each major version"
   ]
  },
  {
   "cell_type": "markdown",
   "metadata": {},
   "source": [
    "## Python and Databases"
   ]
  },
  {
   "cell_type": "markdown",
   "metadata": {},
   "source": [
    "## DBAPI2:  The Python way to handle databases\n",
    "\n",
    "DBAPI2 is an API specification (https://www.python.org/dev/peps/pep-0249/) that defines a set of Python objects that are available when querying database engines.  While there are a very large number of database engines, and several database connectivity standards (ODBC, JDBC, etc), the DBAPI2 objects are what you see on the Python side.\n",
    "\n",
    "DBAPI2 **is**:\n",
    "* A common interface in Python that makes it simpler to switch databases\n",
    "* Provided by Python database driver packages\n",
    "* Simple and straightforward\n",
    "\n",
    "DBAPI2 **is not**:\n",
    "* A translation layer for SQL queries\n",
    "* An Object-Relational Mapper\n",
    "* A Python implementation of any database-specific features"
   ]
  },
  {
   "cell_type": "markdown",
   "metadata": {},
   "source": [
    "## `sqlite3` - The built-in database\n",
    "* Open-source database engine\n",
    "* Simple file-based storage\n",
    "* Great for prototyping\n",
    "* SQL compliant (almost)\n",
    "* Does NOT support parallel access (don't put it in production web apps!)"
   ]
  },
  {
   "cell_type": "code",
   "execution_count": null,
   "metadata": {},
   "outputs": [],
   "source": [
    "query = \"\"\"\n",
    "CREATE TABLE users (user_id INTEGER, username TEXT, email TEXT, pto_days REAL)\n",
    "\"\"\""
   ]
  },
  {
   "cell_type": "code",
   "execution_count": null,
   "metadata": {},
   "outputs": [],
   "source": [
    "import sqlite3\n",
    "\n",
    "# \"Connect\" to the database\n",
    "conn = sqlite3.connect('example.db')\n",
    "\n",
    "# Get a cursor from the connection\n",
    "cursor = conn.cursor()\n",
    "\n",
    "# Execute a SQL query\n",
    "cursor.execute(query)\n",
    "\n",
    "# Inspect the results, if any\n",
    "result = cursor.fetchone()\n",
    "print(result)\n",
    "\n",
    "\n",
    "# Commit the changes\n",
    "conn.commit()\n",
    "# Close the connection\n",
    "conn.close()"
   ]
  },
  {
   "cell_type": "code",
   "execution_count": null,
   "metadata": {},
   "outputs": [],
   "source": [
    "!ls -al *.db"
   ]
  },
  {
   "cell_type": "code",
   "execution_count": null,
   "metadata": {},
   "outputs": [],
   "source": [
    "insert_query = \"\"\"\n",
    "INSERT INTO users\n",
    "VALUES\n",
    "(1, \"jrrickerson\", \"jrrickerson@redrivetstudios.com\", 15.0),\n",
    "(2, \"dave\", \"dws@developintelligence.com\", 20.0),\n",
    "(3, \"ace\", \"ace@developintelligence.com\", 11.5);\n",
    "\"\"\"\n",
    "\n",
    "conn = sqlite3.connect('example.db')\n",
    "cursor = conn.cursor()\n",
    "cursor.execute(insert_query)\n",
    "result = cursor.fetchone()\n",
    "print(result)\n",
    "\n",
    "conn.commit()\n",
    "conn.close()"
   ]
  },
  {
   "cell_type": "code",
   "execution_count": null,
   "metadata": {},
   "outputs": [],
   "source": [
    "# Support for \"with\"\n",
    "\n",
    "with sqlite3.connect('example.db') as conn:\n",
    "    query = 'SELECT * FROM users'\n",
    "    cursor = conn.cursor()\n",
    "    cursor.execute(query)\n",
    "    result = cursor.fetchall()\n",
    "    print(result)"
   ]
  },
  {
   "cell_type": "code",
   "execution_count": null,
   "metadata": {},
   "outputs": [],
   "source": [
    "# Cursors support iteration\n",
    "\n",
    "with sqlite3.connect('example.db') as conn:\n",
    "    query = 'SELECT * FROM users'\n",
    "    cursor = conn.cursor()\n",
    "    for row in cursor.execute(query):\n",
    "        print(row[1], row[3])"
   ]
  },
  {
   "cell_type": "code",
   "execution_count": null,
   "metadata": {},
   "outputs": [],
   "source": [
    "# Row objects allow column lookups\n",
    "\n",
    "with sqlite3.connect('example.db') as conn:\n",
    "    query = 'SELECT * FROM users'\n",
    "    conn.row_factory = sqlite3.Row\n",
    "    cursor = conn.cursor()\n",
    "    cursor.execute(query)\n",
    "    for row in cursor:\n",
    "        print(row['username'], row['pto_days'])\n",
    "    print(row.keys())"
   ]
  },
  {
   "cell_type": "code",
   "execution_count": null,
   "metadata": {},
   "outputs": [],
   "source": [
    "query = \"\"\"\n",
    "INSERT INTO users\n",
    "VALUES\n",
    "    (?, ?, ?, ?)\"\"\""
   ]
  },
  {
   "cell_type": "code",
   "execution_count": null,
   "metadata": {},
   "outputs": [],
   "source": [
    "username = input('Enter username: ')\n",
    "email = input('Enter email: ')\n",
    "userid = input('Enter ID: ')\n",
    "days = input('Enter PTO: ')"
   ]
  },
  {
   "cell_type": "code",
   "execution_count": null,
   "metadata": {},
   "outputs": [],
   "source": [
    "with sqlite3.connect('example.db') as conn:\n",
    "    cursor = conn.cursor()\n",
    "    cursor.execute(query, (userid, username, email, days))\n",
    "    for row in cursor.execute('SELECT * from users'):\n",
    "        print(row)"
   ]
  },
  {
   "cell_type": "markdown",
   "metadata": {},
   "source": [
    "## Bonus Lab:  DBAPI2\n",
    "\n",
    "Create your own sqlite3 database (HINT:  You can use the filename `:memory:` if you cannot create a file) and execute some SQL queries on it.  Try creating a table and adding a few rows, and then retrieving those rows."
   ]
  },
  {
   "cell_type": "markdown",
   "metadata": {},
   "source": [
    "## More On Databases\n",
    "\n",
    "- Python has drivers for PostgreSQL, MySQL, MS-SQL, Oracle, and more!\n",
    "- Additional support for No-SQL databases, but they may not follow the DBAPI2 spec\n",
    "- If you need to do a LOT of database work, an ORM may help you - look at `sqlalchemy`\n",
    "- Database connectivity comes with a lot of gotchas!  Be especially careful when executing within loops.  There's often a better way!"
   ]
  },
  {
   "cell_type": "markdown",
   "metadata": {},
   "source": [
    "## Lab:  Astronomy API Client\n",
    "Look for the file **01_calling_apis_with_python.pdf** in your materials for instructions, and build your own standlone script that utilizes the Astronomy API at https://astronomyapi.com"
   ]
  },
  {
   "cell_type": "code",
   "execution_count": null,
   "metadata": {},
   "outputs": [],
   "source": []
  }
 ],
 "metadata": {
  "celltoolbar": "Slideshow",
  "kernelspec": {
   "display_name": "Python 3",
   "language": "python",
   "name": "python3"
  },
  "language_info": {
   "codemirror_mode": {
    "name": "ipython",
    "version": 3
   },
   "file_extension": ".py",
   "mimetype": "text/x-python",
   "name": "python",
   "nbconvert_exporter": "python",
   "pygments_lexer": "ipython3",
   "version": "3.7.10"
  }
 },
 "nbformat": 4,
 "nbformat_minor": 4
}
